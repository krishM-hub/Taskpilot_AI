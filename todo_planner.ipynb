{
 "cells": [
  {
   "cell_type": "code",
   "execution_count": 62,
   "metadata": {},
   "outputs": [],
   "source": [
    "import langgraph"
   ]
  },
  {
   "cell_type": "code",
   "execution_count": 63,
   "metadata": {},
   "outputs": [],
   "source": [
    "from langgraph.prebuilt import create_react_agent\n",
    "from dotenv import load_dotenv\n",
    "from langchain.agents import tool\n",
    "\n",
    "load_dotenv()\n",
    "\n",
    "task_records = []\n",
    "task_records = [\"Call the doctor's office\", \"speak with doctor\", \"Find all details\",\"Grocery shopping\"]\n",
    "\n",
    "@tool\n",
    "def create_task(task: str) -> str:\n",
    "    \"\"\"Add a task to the user's to-do list.\"\"\"\n",
    "    task_records.append(task)\n",
    "    return f\"Task '{task}' has been added.\"\n",
    "\n",
    "create_task(\"Doctor appointment at 2 PM on 14th july\")\n",
    "create_task(\"Doctor appointment at 2 PM on 17th july\")\n",
    "create_task(\"Doctor appointment at 2 PM on 20th july\")\n",
    "\n",
    "@tool\n",
    "def list_tasks(_: str = \"\") -> str:\n",
    "    \"\"\"List all tasks in the user's to-do list.\"\"\"\n",
    "    if not task_records:\n",
    "        return \"Your to-do list is empty.\"\n",
    "    return \"\\n\".join([f\"{idx+1}. {t}\" for idx, t in enumerate(task_records)])\n",
    "\n",
    "\n",
    "\n",
    "persona=\"\"\"\n",
    "* You are interactive Taskpilot AI system, a smart and friendly productivity assistant.\n",
    "* Your role is to help users organize their tasks, answer their planning questions, and suggest efficient ways to achieve their goals. \n",
    "* Always provide clear, concise, and positive guidance. \n",
    "* When unsure, ask clarifying questions rather than guessing.\n",
    "* Also when you detect that the user’s tasks, plans, or mindset seem unproductive, negative, or off track, kindly offer practical suggestions to help them regain focus, stay positive, and boost productivity.\n",
    "\"\"\"\n",
    "\n",
    "agent = create_react_agent(\n",
    "    model=\"groq:llama-3.1-8b-instant\",  \n",
    "    tools=[create_task,list_tasks],  \n",
    "    prompt=persona  \n",
    ")\n",
    "\n",
    "# Run the agent\n",
    "from IPython.display import display_markdown\n",
    "def my_advisor(message):\n",
    "\n",
    "    suggestion=agent.invoke(\n",
    "        {\"messages\": [{\"role\": \"user\", \"content\": message}]},\n",
    "        config={\"recursion_limit\": 50}\n",
    "    )\n",
    "    display_markdown(suggestion['messages'][-1].content, raw=True)"
   ]
  },
  {
   "cell_type": "code",
   "execution_count": 65,
   "metadata": {},
   "outputs": [
    {
     "data": {
      "text/markdown": [
       "It seems like you have multiple tasks, but one of them is related to your doctor appointment on the 17th of July. Would you like me to help you organize your tasks or provide more information about a specific task?"
      ]
     },
     "metadata": {},
     "output_type": "display_data"
    }
   ],
   "source": [
    "my_advisor(\"What is my task on 17th july?\")"
   ]
  }
 ],
 "metadata": {
  "kernelspec": {
   "display_name": "chatbot_env",
   "language": "python",
   "name": "python3"
  },
  "language_info": {
   "codemirror_mode": {
    "name": "ipython",
    "version": 3
   },
   "file_extension": ".py",
   "mimetype": "text/x-python",
   "name": "python",
   "nbconvert_exporter": "python",
   "pygments_lexer": "ipython3",
   "version": "3.11.13"
  }
 },
 "nbformat": 4,
 "nbformat_minor": 2
}
